{
  "cells": [
    {
      "cell_type": "markdown",
      "metadata": {
        "id": "view-in-github",
        "colab_type": "text"
      },
      "source": [
        "<a href=\"https://colab.research.google.com/github/joseferbis-cell/PLs-ADFM/blob/main/practice_1_neural_network_from_scratch.ipynb\" target=\"_parent\"><img src=\"https://colab.research.google.com/assets/colab-badge.svg\" alt=\"Open In Colab\"/></a>"
      ]
    },
    {
      "cell_type": "markdown",
      "metadata": {
        "id": "AFpv57792eJO"
      },
      "source": [
        "<a href=\"https://colab.research.google.com/github/vischia/adfm_2024-2025/blob/master/practice_1_neural_network_from_scratch.ipynb\" target=\"_parent\"><img src=\"https://colab.research.google.com/assets/colab-badge.svg\" alt=\"Open In Colab\"/></a>"
      ]
    },
    {
      "cell_type": "markdown",
      "metadata": {
        "id": "Lfd2H0Zf2eJP"
      },
      "source": [
        "# Regress the quality of a wine like a boss\n",
        "## Write your own DNN in python\n",
        "\n",
        "Copyright (c) Pietro Vischia, 2020-2025\n",
        "algo debajo de copyright asdfasdfasdf"
      ]
    },
    {
      "cell_type": "markdown",
      "metadata": {
        "id": "_b_sfFDT2eJP"
      },
      "source": [
        "You will analyze the \"Housing\" dataset used in the first PAs, consisting in data on a set of houses in San Francisco and New York. The dataset is available through https://github.com/jadeyee/r2d3-part-1-data .\n",
        "\n",
        "The goal is to classify houses as being New York or San Francisco houses.\n",
        "\n",
        "Let's load the data, using the same commands as in the other notebooks: <\n"
      ]
    },
    {
      "cell_type": "code",
      "execution_count": 2,
      "metadata": {
        "id": "ZzpQT9vH2eJQ"
      },
      "outputs": [],
      "source": [
        "#import wget\n",
        "import os\n",
        "import numpy as np\n",
        "import pandas as pd\n",
        "from sklearn.model_selection import train_test_split\n",
        "from matplotlib import pyplot as plt"
      ]
    },
    {
      "cell_type": "code",
      "execution_count": 4,
      "metadata": {
        "id": "1s3KpXzY2eJR",
        "outputId": "4e7a5566-4093-4705-d2db-a74867867400",
        "colab": {
          "base_uri": "https://localhost:8080/",
          "height": 397
        }
      },
      "outputs": [
        {
          "output_type": "stream",
          "name": "stdout",
          "text": [
            "--2025-10-23 16:17:17--  https://raw.githubusercontent.com/jadeyee/r2d3-part-1-data/refs/heads/master/part_1_data.csv\n",
            "Resolving raw.githubusercontent.com (raw.githubusercontent.com)... 185.199.108.133, 185.199.109.133, 185.199.110.133, ...\n",
            "Connecting to raw.githubusercontent.com (raw.githubusercontent.com)|185.199.108.133|:443... connected.\n",
            "HTTP request sent, awaiting response... 200 OK\n",
            "Length: 15770 (15K) [text/plain]\n",
            "Saving to: ‘part_1_data.csv.1’\n",
            "\n",
            "\rpart_1_data.csv.1     0%[                    ]       0  --.-KB/s               \rpart_1_data.csv.1   100%[===================>]  15.40K  --.-KB/s    in 0.001s  \n",
            "\n",
            "2025-10-23 16:17:17 (17.7 MB/s) - ‘part_1_data.csv.1’ saved [15770/15770]\n",
            "\n"
          ]
        },
        {
          "output_type": "execute_result",
          "data": {
            "text/plain": [
              "   in_sf  beds  bath    price  year_built  sqft  price_per_sqft  elevation\n",
              "0      0   2.0   1.0   999000        1960  1000             999         10\n",
              "1      0   2.0   2.0  2750000        2006  1418            1939          0\n",
              "2      0   2.0   2.0  1350000        1900  2150             628          9\n",
              "3      0   1.0   1.0   629000        1903   500            1258          9\n",
              "4      0   0.0   1.0   439000        1930   500             878         10"
            ],
            "text/html": [
              "\n",
              "  <div id=\"df-8e68484e-f34d-43b2-8c25-246cc2f33d01\" class=\"colab-df-container\">\n",
              "    <div>\n",
              "<style scoped>\n",
              "    .dataframe tbody tr th:only-of-type {\n",
              "        vertical-align: middle;\n",
              "    }\n",
              "\n",
              "    .dataframe tbody tr th {\n",
              "        vertical-align: top;\n",
              "    }\n",
              "\n",
              "    .dataframe thead th {\n",
              "        text-align: right;\n",
              "    }\n",
              "</style>\n",
              "<table border=\"1\" class=\"dataframe\">\n",
              "  <thead>\n",
              "    <tr style=\"text-align: right;\">\n",
              "      <th></th>\n",
              "      <th>in_sf</th>\n",
              "      <th>beds</th>\n",
              "      <th>bath</th>\n",
              "      <th>price</th>\n",
              "      <th>year_built</th>\n",
              "      <th>sqft</th>\n",
              "      <th>price_per_sqft</th>\n",
              "      <th>elevation</th>\n",
              "    </tr>\n",
              "  </thead>\n",
              "  <tbody>\n",
              "    <tr>\n",
              "      <th>0</th>\n",
              "      <td>0</td>\n",
              "      <td>2.0</td>\n",
              "      <td>1.0</td>\n",
              "      <td>999000</td>\n",
              "      <td>1960</td>\n",
              "      <td>1000</td>\n",
              "      <td>999</td>\n",
              "      <td>10</td>\n",
              "    </tr>\n",
              "    <tr>\n",
              "      <th>1</th>\n",
              "      <td>0</td>\n",
              "      <td>2.0</td>\n",
              "      <td>2.0</td>\n",
              "      <td>2750000</td>\n",
              "      <td>2006</td>\n",
              "      <td>1418</td>\n",
              "      <td>1939</td>\n",
              "      <td>0</td>\n",
              "    </tr>\n",
              "    <tr>\n",
              "      <th>2</th>\n",
              "      <td>0</td>\n",
              "      <td>2.0</td>\n",
              "      <td>2.0</td>\n",
              "      <td>1350000</td>\n",
              "      <td>1900</td>\n",
              "      <td>2150</td>\n",
              "      <td>628</td>\n",
              "      <td>9</td>\n",
              "    </tr>\n",
              "    <tr>\n",
              "      <th>3</th>\n",
              "      <td>0</td>\n",
              "      <td>1.0</td>\n",
              "      <td>1.0</td>\n",
              "      <td>629000</td>\n",
              "      <td>1903</td>\n",
              "      <td>500</td>\n",
              "      <td>1258</td>\n",
              "      <td>9</td>\n",
              "    </tr>\n",
              "    <tr>\n",
              "      <th>4</th>\n",
              "      <td>0</td>\n",
              "      <td>0.0</td>\n",
              "      <td>1.0</td>\n",
              "      <td>439000</td>\n",
              "      <td>1930</td>\n",
              "      <td>500</td>\n",
              "      <td>878</td>\n",
              "      <td>10</td>\n",
              "    </tr>\n",
              "  </tbody>\n",
              "</table>\n",
              "</div>\n",
              "    <div class=\"colab-df-buttons\">\n",
              "\n",
              "  <div class=\"colab-df-container\">\n",
              "    <button class=\"colab-df-convert\" onclick=\"convertToInteractive('df-8e68484e-f34d-43b2-8c25-246cc2f33d01')\"\n",
              "            title=\"Convert this dataframe to an interactive table.\"\n",
              "            style=\"display:none;\">\n",
              "\n",
              "  <svg xmlns=\"http://www.w3.org/2000/svg\" height=\"24px\" viewBox=\"0 -960 960 960\">\n",
              "    <path d=\"M120-120v-720h720v720H120Zm60-500h600v-160H180v160Zm220 220h160v-160H400v160Zm0 220h160v-160H400v160ZM180-400h160v-160H180v160Zm440 0h160v-160H620v160ZM180-180h160v-160H180v160Zm440 0h160v-160H620v160Z\"/>\n",
              "  </svg>\n",
              "    </button>\n",
              "\n",
              "  <style>\n",
              "    .colab-df-container {\n",
              "      display:flex;\n",
              "      gap: 12px;\n",
              "    }\n",
              "\n",
              "    .colab-df-convert {\n",
              "      background-color: #E8F0FE;\n",
              "      border: none;\n",
              "      border-radius: 50%;\n",
              "      cursor: pointer;\n",
              "      display: none;\n",
              "      fill: #1967D2;\n",
              "      height: 32px;\n",
              "      padding: 0 0 0 0;\n",
              "      width: 32px;\n",
              "    }\n",
              "\n",
              "    .colab-df-convert:hover {\n",
              "      background-color: #E2EBFA;\n",
              "      box-shadow: 0px 1px 2px rgba(60, 64, 67, 0.3), 0px 1px 3px 1px rgba(60, 64, 67, 0.15);\n",
              "      fill: #174EA6;\n",
              "    }\n",
              "\n",
              "    .colab-df-buttons div {\n",
              "      margin-bottom: 4px;\n",
              "    }\n",
              "\n",
              "    [theme=dark] .colab-df-convert {\n",
              "      background-color: #3B4455;\n",
              "      fill: #D2E3FC;\n",
              "    }\n",
              "\n",
              "    [theme=dark] .colab-df-convert:hover {\n",
              "      background-color: #434B5C;\n",
              "      box-shadow: 0px 1px 3px 1px rgba(0, 0, 0, 0.15);\n",
              "      filter: drop-shadow(0px 1px 2px rgba(0, 0, 0, 0.3));\n",
              "      fill: #FFFFFF;\n",
              "    }\n",
              "  </style>\n",
              "\n",
              "    <script>\n",
              "      const buttonEl =\n",
              "        document.querySelector('#df-8e68484e-f34d-43b2-8c25-246cc2f33d01 button.colab-df-convert');\n",
              "      buttonEl.style.display =\n",
              "        google.colab.kernel.accessAllowed ? 'block' : 'none';\n",
              "\n",
              "      async function convertToInteractive(key) {\n",
              "        const element = document.querySelector('#df-8e68484e-f34d-43b2-8c25-246cc2f33d01');\n",
              "        const dataTable =\n",
              "          await google.colab.kernel.invokeFunction('convertToInteractive',\n",
              "                                                    [key], {});\n",
              "        if (!dataTable) return;\n",
              "\n",
              "        const docLinkHtml = 'Like what you see? Visit the ' +\n",
              "          '<a target=\"_blank\" href=https://colab.research.google.com/notebooks/data_table.ipynb>data table notebook</a>'\n",
              "          + ' to learn more about interactive tables.';\n",
              "        element.innerHTML = '';\n",
              "        dataTable['output_type'] = 'display_data';\n",
              "        await google.colab.output.renderOutput(dataTable, element);\n",
              "        const docLink = document.createElement('div');\n",
              "        docLink.innerHTML = docLinkHtml;\n",
              "        element.appendChild(docLink);\n",
              "      }\n",
              "    </script>\n",
              "  </div>\n",
              "\n",
              "\n",
              "    <div id=\"df-b03d9669-3cc1-49ee-b208-17b2ea77d29e\">\n",
              "      <button class=\"colab-df-quickchart\" onclick=\"quickchart('df-b03d9669-3cc1-49ee-b208-17b2ea77d29e')\"\n",
              "                title=\"Suggest charts\"\n",
              "                style=\"display:none;\">\n",
              "\n",
              "<svg xmlns=\"http://www.w3.org/2000/svg\" height=\"24px\"viewBox=\"0 0 24 24\"\n",
              "     width=\"24px\">\n",
              "    <g>\n",
              "        <path d=\"M19 3H5c-1.1 0-2 .9-2 2v14c0 1.1.9 2 2 2h14c1.1 0 2-.9 2-2V5c0-1.1-.9-2-2-2zM9 17H7v-7h2v7zm4 0h-2V7h2v10zm4 0h-2v-4h2v4z\"/>\n",
              "    </g>\n",
              "</svg>\n",
              "      </button>\n",
              "\n",
              "<style>\n",
              "  .colab-df-quickchart {\n",
              "      --bg-color: #E8F0FE;\n",
              "      --fill-color: #1967D2;\n",
              "      --hover-bg-color: #E2EBFA;\n",
              "      --hover-fill-color: #174EA6;\n",
              "      --disabled-fill-color: #AAA;\n",
              "      --disabled-bg-color: #DDD;\n",
              "  }\n",
              "\n",
              "  [theme=dark] .colab-df-quickchart {\n",
              "      --bg-color: #3B4455;\n",
              "      --fill-color: #D2E3FC;\n",
              "      --hover-bg-color: #434B5C;\n",
              "      --hover-fill-color: #FFFFFF;\n",
              "      --disabled-bg-color: #3B4455;\n",
              "      --disabled-fill-color: #666;\n",
              "  }\n",
              "\n",
              "  .colab-df-quickchart {\n",
              "    background-color: var(--bg-color);\n",
              "    border: none;\n",
              "    border-radius: 50%;\n",
              "    cursor: pointer;\n",
              "    display: none;\n",
              "    fill: var(--fill-color);\n",
              "    height: 32px;\n",
              "    padding: 0;\n",
              "    width: 32px;\n",
              "  }\n",
              "\n",
              "  .colab-df-quickchart:hover {\n",
              "    background-color: var(--hover-bg-color);\n",
              "    box-shadow: 0 1px 2px rgba(60, 64, 67, 0.3), 0 1px 3px 1px rgba(60, 64, 67, 0.15);\n",
              "    fill: var(--button-hover-fill-color);\n",
              "  }\n",
              "\n",
              "  .colab-df-quickchart-complete:disabled,\n",
              "  .colab-df-quickchart-complete:disabled:hover {\n",
              "    background-color: var(--disabled-bg-color);\n",
              "    fill: var(--disabled-fill-color);\n",
              "    box-shadow: none;\n",
              "  }\n",
              "\n",
              "  .colab-df-spinner {\n",
              "    border: 2px solid var(--fill-color);\n",
              "    border-color: transparent;\n",
              "    border-bottom-color: var(--fill-color);\n",
              "    animation:\n",
              "      spin 1s steps(1) infinite;\n",
              "  }\n",
              "\n",
              "  @keyframes spin {\n",
              "    0% {\n",
              "      border-color: transparent;\n",
              "      border-bottom-color: var(--fill-color);\n",
              "      border-left-color: var(--fill-color);\n",
              "    }\n",
              "    20% {\n",
              "      border-color: transparent;\n",
              "      border-left-color: var(--fill-color);\n",
              "      border-top-color: var(--fill-color);\n",
              "    }\n",
              "    30% {\n",
              "      border-color: transparent;\n",
              "      border-left-color: var(--fill-color);\n",
              "      border-top-color: var(--fill-color);\n",
              "      border-right-color: var(--fill-color);\n",
              "    }\n",
              "    40% {\n",
              "      border-color: transparent;\n",
              "      border-right-color: var(--fill-color);\n",
              "      border-top-color: var(--fill-color);\n",
              "    }\n",
              "    60% {\n",
              "      border-color: transparent;\n",
              "      border-right-color: var(--fill-color);\n",
              "    }\n",
              "    80% {\n",
              "      border-color: transparent;\n",
              "      border-right-color: var(--fill-color);\n",
              "      border-bottom-color: var(--fill-color);\n",
              "    }\n",
              "    90% {\n",
              "      border-color: transparent;\n",
              "      border-bottom-color: var(--fill-color);\n",
              "    }\n",
              "  }\n",
              "</style>\n",
              "\n",
              "      <script>\n",
              "        async function quickchart(key) {\n",
              "          const quickchartButtonEl =\n",
              "            document.querySelector('#' + key + ' button');\n",
              "          quickchartButtonEl.disabled = true;  // To prevent multiple clicks.\n",
              "          quickchartButtonEl.classList.add('colab-df-spinner');\n",
              "          try {\n",
              "            const charts = await google.colab.kernel.invokeFunction(\n",
              "                'suggestCharts', [key], {});\n",
              "          } catch (error) {\n",
              "            console.error('Error during call to suggestCharts:', error);\n",
              "          }\n",
              "          quickchartButtonEl.classList.remove('colab-df-spinner');\n",
              "          quickchartButtonEl.classList.add('colab-df-quickchart-complete');\n",
              "        }\n",
              "        (() => {\n",
              "          let quickchartButtonEl =\n",
              "            document.querySelector('#df-b03d9669-3cc1-49ee-b208-17b2ea77d29e button');\n",
              "          quickchartButtonEl.style.display =\n",
              "            google.colab.kernel.accessAllowed ? 'block' : 'none';\n",
              "        })();\n",
              "      </script>\n",
              "    </div>\n",
              "\n",
              "    </div>\n",
              "  </div>\n"
            ],
            "application/vnd.google.colaboratory.intrinsic+json": {
              "type": "dataframe",
              "variable_name": "data",
              "summary": "{\n  \"name\": \"data\",\n  \"rows\": 492,\n  \"fields\": [\n    {\n      \"column\": \"in_sf\",\n      \"properties\": {\n        \"dtype\": \"number\",\n        \"std\": 0,\n        \"min\": 0,\n        \"max\": 1,\n        \"num_unique_values\": 2,\n        \"samples\": [\n          1,\n          0\n        ],\n        \"semantic_type\": \"\",\n        \"description\": \"\"\n      }\n    },\n    {\n      \"column\": \"beds\",\n      \"properties\": {\n        \"dtype\": \"number\",\n        \"std\": 1.305132577425564,\n        \"min\": 0.0,\n        \"max\": 10.0,\n        \"num_unique_values\": 11,\n        \"samples\": [\n          5.0,\n          2.0\n        ],\n        \"semantic_type\": \"\",\n        \"description\": \"\"\n      }\n    },\n    {\n      \"column\": \"bath\",\n      \"properties\": {\n        \"dtype\": \"number\",\n        \"std\": 1.0681503371010006,\n        \"min\": 1.0,\n        \"max\": 10.0,\n        \"num_unique_values\": 16,\n        \"samples\": [\n          1.0,\n          2.0\n        ],\n        \"semantic_type\": \"\",\n        \"description\": \"\"\n      }\n    },\n    {\n      \"column\": \"price\",\n      \"properties\": {\n        \"dtype\": \"number\",\n        \"std\": 2824054,\n        \"min\": 187518,\n        \"max\": 27500000,\n        \"num_unique_values\": 270,\n        \"samples\": [\n          1595000,\n          2300000\n        ],\n        \"semantic_type\": \"\",\n        \"description\": \"\"\n      }\n    },\n    {\n      \"column\": \"year_built\",\n      \"properties\": {\n        \"dtype\": \"number\",\n        \"std\": 40,\n        \"min\": 1880,\n        \"max\": 2016,\n        \"num_unique_values\": 110,\n        \"samples\": [\n          1966,\n          2008\n        ],\n        \"semantic_type\": \"\",\n        \"description\": \"\"\n      }\n    },\n    {\n      \"column\": \"sqft\",\n      \"properties\": {\n        \"dtype\": \"number\",\n        \"std\": 1014,\n        \"min\": 310,\n        \"max\": 7800,\n        \"num_unique_values\": 330,\n        \"samples\": [\n          1373,\n          1165\n        ],\n        \"semantic_type\": \"\",\n        \"description\": \"\"\n      }\n    },\n    {\n      \"column\": \"price_per_sqft\",\n      \"properties\": {\n        \"dtype\": \"number\",\n        \"std\": 733,\n        \"min\": 270,\n        \"max\": 4601,\n        \"num_unique_values\": 360,\n        \"samples\": [\n          379,\n          1750\n        ],\n        \"semantic_type\": \"\",\n        \"description\": \"\"\n      }\n    },\n    {\n      \"column\": \"elevation\",\n      \"properties\": {\n        \"dtype\": \"number\",\n        \"std\": 44,\n        \"min\": 0,\n        \"max\": 238,\n        \"num_unique_values\": 121,\n        \"samples\": [\n          83,\n          62\n        ],\n        \"semantic_type\": \"\",\n        \"description\": \"\"\n      }\n    }\n  ]\n}"
            }
          },
          "metadata": {},
          "execution_count": 4
        }
      ],
      "source": [
        "!wget https://raw.githubusercontent.com/jadeyee/r2d3-part-1-data/refs/heads/master/part_1_data.csv\n",
        "\n",
        "data = pd.read_csv(\"./part_1_data.csv\", sep=\",\",skiprows=2)\n",
        "\n",
        "data.head()\n"
      ]
    },
    {
      "cell_type": "code",
      "execution_count": 5,
      "metadata": {
        "id": "T7ihTCWw2eJR",
        "outputId": "6a4a86af-8122-429c-d259-6ffa9ebbfccc",
        "colab": {
          "base_uri": "https://localhost:8080/",
          "height": 206
        }
      },
      "outputs": [
        {
          "output_type": "execute_result",
          "data": {
            "text/plain": [
              "   in_sf  beds      bath     price  year_built      sqft  price_per_sqft  \\\n",
              "0    0.0   0.2  0.000000  0.029711    0.588235  0.092123        0.168321   \n",
              "1    0.0   0.2  0.111111  0.093821    0.926471  0.147931        0.385361   \n",
              "2    0.0   0.2  0.111111  0.042562    0.147059  0.245661        0.082660   \n",
              "3    0.0   0.1  0.000000  0.016164    0.169118  0.025367        0.228123   \n",
              "4    0.0   0.0  0.000000  0.009208    0.367647  0.025367        0.140383   \n",
              "\n",
              "   elevation  \n",
              "0   0.042017  \n",
              "1   0.000000  \n",
              "2   0.037815  \n",
              "3   0.037815  \n",
              "4   0.042017  "
            ],
            "text/html": [
              "\n",
              "  <div id=\"df-842f4820-75c9-4f37-a0fc-a9b9d0f75f50\" class=\"colab-df-container\">\n",
              "    <div>\n",
              "<style scoped>\n",
              "    .dataframe tbody tr th:only-of-type {\n",
              "        vertical-align: middle;\n",
              "    }\n",
              "\n",
              "    .dataframe tbody tr th {\n",
              "        vertical-align: top;\n",
              "    }\n",
              "\n",
              "    .dataframe thead th {\n",
              "        text-align: right;\n",
              "    }\n",
              "</style>\n",
              "<table border=\"1\" class=\"dataframe\">\n",
              "  <thead>\n",
              "    <tr style=\"text-align: right;\">\n",
              "      <th></th>\n",
              "      <th>in_sf</th>\n",
              "      <th>beds</th>\n",
              "      <th>bath</th>\n",
              "      <th>price</th>\n",
              "      <th>year_built</th>\n",
              "      <th>sqft</th>\n",
              "      <th>price_per_sqft</th>\n",
              "      <th>elevation</th>\n",
              "    </tr>\n",
              "  </thead>\n",
              "  <tbody>\n",
              "    <tr>\n",
              "      <th>0</th>\n",
              "      <td>0.0</td>\n",
              "      <td>0.2</td>\n",
              "      <td>0.000000</td>\n",
              "      <td>0.029711</td>\n",
              "      <td>0.588235</td>\n",
              "      <td>0.092123</td>\n",
              "      <td>0.168321</td>\n",
              "      <td>0.042017</td>\n",
              "    </tr>\n",
              "    <tr>\n",
              "      <th>1</th>\n",
              "      <td>0.0</td>\n",
              "      <td>0.2</td>\n",
              "      <td>0.111111</td>\n",
              "      <td>0.093821</td>\n",
              "      <td>0.926471</td>\n",
              "      <td>0.147931</td>\n",
              "      <td>0.385361</td>\n",
              "      <td>0.000000</td>\n",
              "    </tr>\n",
              "    <tr>\n",
              "      <th>2</th>\n",
              "      <td>0.0</td>\n",
              "      <td>0.2</td>\n",
              "      <td>0.111111</td>\n",
              "      <td>0.042562</td>\n",
              "      <td>0.147059</td>\n",
              "      <td>0.245661</td>\n",
              "      <td>0.082660</td>\n",
              "      <td>0.037815</td>\n",
              "    </tr>\n",
              "    <tr>\n",
              "      <th>3</th>\n",
              "      <td>0.0</td>\n",
              "      <td>0.1</td>\n",
              "      <td>0.000000</td>\n",
              "      <td>0.016164</td>\n",
              "      <td>0.169118</td>\n",
              "      <td>0.025367</td>\n",
              "      <td>0.228123</td>\n",
              "      <td>0.037815</td>\n",
              "    </tr>\n",
              "    <tr>\n",
              "      <th>4</th>\n",
              "      <td>0.0</td>\n",
              "      <td>0.0</td>\n",
              "      <td>0.000000</td>\n",
              "      <td>0.009208</td>\n",
              "      <td>0.367647</td>\n",
              "      <td>0.025367</td>\n",
              "      <td>0.140383</td>\n",
              "      <td>0.042017</td>\n",
              "    </tr>\n",
              "  </tbody>\n",
              "</table>\n",
              "</div>\n",
              "    <div class=\"colab-df-buttons\">\n",
              "\n",
              "  <div class=\"colab-df-container\">\n",
              "    <button class=\"colab-df-convert\" onclick=\"convertToInteractive('df-842f4820-75c9-4f37-a0fc-a9b9d0f75f50')\"\n",
              "            title=\"Convert this dataframe to an interactive table.\"\n",
              "            style=\"display:none;\">\n",
              "\n",
              "  <svg xmlns=\"http://www.w3.org/2000/svg\" height=\"24px\" viewBox=\"0 -960 960 960\">\n",
              "    <path d=\"M120-120v-720h720v720H120Zm60-500h600v-160H180v160Zm220 220h160v-160H400v160Zm0 220h160v-160H400v160ZM180-400h160v-160H180v160Zm440 0h160v-160H620v160ZM180-180h160v-160H180v160Zm440 0h160v-160H620v160Z\"/>\n",
              "  </svg>\n",
              "    </button>\n",
              "\n",
              "  <style>\n",
              "    .colab-df-container {\n",
              "      display:flex;\n",
              "      gap: 12px;\n",
              "    }\n",
              "\n",
              "    .colab-df-convert {\n",
              "      background-color: #E8F0FE;\n",
              "      border: none;\n",
              "      border-radius: 50%;\n",
              "      cursor: pointer;\n",
              "      display: none;\n",
              "      fill: #1967D2;\n",
              "      height: 32px;\n",
              "      padding: 0 0 0 0;\n",
              "      width: 32px;\n",
              "    }\n",
              "\n",
              "    .colab-df-convert:hover {\n",
              "      background-color: #E2EBFA;\n",
              "      box-shadow: 0px 1px 2px rgba(60, 64, 67, 0.3), 0px 1px 3px 1px rgba(60, 64, 67, 0.15);\n",
              "      fill: #174EA6;\n",
              "    }\n",
              "\n",
              "    .colab-df-buttons div {\n",
              "      margin-bottom: 4px;\n",
              "    }\n",
              "\n",
              "    [theme=dark] .colab-df-convert {\n",
              "      background-color: #3B4455;\n",
              "      fill: #D2E3FC;\n",
              "    }\n",
              "\n",
              "    [theme=dark] .colab-df-convert:hover {\n",
              "      background-color: #434B5C;\n",
              "      box-shadow: 0px 1px 3px 1px rgba(0, 0, 0, 0.15);\n",
              "      filter: drop-shadow(0px 1px 2px rgba(0, 0, 0, 0.3));\n",
              "      fill: #FFFFFF;\n",
              "    }\n",
              "  </style>\n",
              "\n",
              "    <script>\n",
              "      const buttonEl =\n",
              "        document.querySelector('#df-842f4820-75c9-4f37-a0fc-a9b9d0f75f50 button.colab-df-convert');\n",
              "      buttonEl.style.display =\n",
              "        google.colab.kernel.accessAllowed ? 'block' : 'none';\n",
              "\n",
              "      async function convertToInteractive(key) {\n",
              "        const element = document.querySelector('#df-842f4820-75c9-4f37-a0fc-a9b9d0f75f50');\n",
              "        const dataTable =\n",
              "          await google.colab.kernel.invokeFunction('convertToInteractive',\n",
              "                                                    [key], {});\n",
              "        if (!dataTable) return;\n",
              "\n",
              "        const docLinkHtml = 'Like what you see? Visit the ' +\n",
              "          '<a target=\"_blank\" href=https://colab.research.google.com/notebooks/data_table.ipynb>data table notebook</a>'\n",
              "          + ' to learn more about interactive tables.';\n",
              "        element.innerHTML = '';\n",
              "        dataTable['output_type'] = 'display_data';\n",
              "        await google.colab.output.renderOutput(dataTable, element);\n",
              "        const docLink = document.createElement('div');\n",
              "        docLink.innerHTML = docLinkHtml;\n",
              "        element.appendChild(docLink);\n",
              "      }\n",
              "    </script>\n",
              "  </div>\n",
              "\n",
              "\n",
              "    <div id=\"df-fad1044f-1034-4274-8e73-6f6320ffde86\">\n",
              "      <button class=\"colab-df-quickchart\" onclick=\"quickchart('df-fad1044f-1034-4274-8e73-6f6320ffde86')\"\n",
              "                title=\"Suggest charts\"\n",
              "                style=\"display:none;\">\n",
              "\n",
              "<svg xmlns=\"http://www.w3.org/2000/svg\" height=\"24px\"viewBox=\"0 0 24 24\"\n",
              "     width=\"24px\">\n",
              "    <g>\n",
              "        <path d=\"M19 3H5c-1.1 0-2 .9-2 2v14c0 1.1.9 2 2 2h14c1.1 0 2-.9 2-2V5c0-1.1-.9-2-2-2zM9 17H7v-7h2v7zm4 0h-2V7h2v10zm4 0h-2v-4h2v4z\"/>\n",
              "    </g>\n",
              "</svg>\n",
              "      </button>\n",
              "\n",
              "<style>\n",
              "  .colab-df-quickchart {\n",
              "      --bg-color: #E8F0FE;\n",
              "      --fill-color: #1967D2;\n",
              "      --hover-bg-color: #E2EBFA;\n",
              "      --hover-fill-color: #174EA6;\n",
              "      --disabled-fill-color: #AAA;\n",
              "      --disabled-bg-color: #DDD;\n",
              "  }\n",
              "\n",
              "  [theme=dark] .colab-df-quickchart {\n",
              "      --bg-color: #3B4455;\n",
              "      --fill-color: #D2E3FC;\n",
              "      --hover-bg-color: #434B5C;\n",
              "      --hover-fill-color: #FFFFFF;\n",
              "      --disabled-bg-color: #3B4455;\n",
              "      --disabled-fill-color: #666;\n",
              "  }\n",
              "\n",
              "  .colab-df-quickchart {\n",
              "    background-color: var(--bg-color);\n",
              "    border: none;\n",
              "    border-radius: 50%;\n",
              "    cursor: pointer;\n",
              "    display: none;\n",
              "    fill: var(--fill-color);\n",
              "    height: 32px;\n",
              "    padding: 0;\n",
              "    width: 32px;\n",
              "  }\n",
              "\n",
              "  .colab-df-quickchart:hover {\n",
              "    background-color: var(--hover-bg-color);\n",
              "    box-shadow: 0 1px 2px rgba(60, 64, 67, 0.3), 0 1px 3px 1px rgba(60, 64, 67, 0.15);\n",
              "    fill: var(--button-hover-fill-color);\n",
              "  }\n",
              "\n",
              "  .colab-df-quickchart-complete:disabled,\n",
              "  .colab-df-quickchart-complete:disabled:hover {\n",
              "    background-color: var(--disabled-bg-color);\n",
              "    fill: var(--disabled-fill-color);\n",
              "    box-shadow: none;\n",
              "  }\n",
              "\n",
              "  .colab-df-spinner {\n",
              "    border: 2px solid var(--fill-color);\n",
              "    border-color: transparent;\n",
              "    border-bottom-color: var(--fill-color);\n",
              "    animation:\n",
              "      spin 1s steps(1) infinite;\n",
              "  }\n",
              "\n",
              "  @keyframes spin {\n",
              "    0% {\n",
              "      border-color: transparent;\n",
              "      border-bottom-color: var(--fill-color);\n",
              "      border-left-color: var(--fill-color);\n",
              "    }\n",
              "    20% {\n",
              "      border-color: transparent;\n",
              "      border-left-color: var(--fill-color);\n",
              "      border-top-color: var(--fill-color);\n",
              "    }\n",
              "    30% {\n",
              "      border-color: transparent;\n",
              "      border-left-color: var(--fill-color);\n",
              "      border-top-color: var(--fill-color);\n",
              "      border-right-color: var(--fill-color);\n",
              "    }\n",
              "    40% {\n",
              "      border-color: transparent;\n",
              "      border-right-color: var(--fill-color);\n",
              "      border-top-color: var(--fill-color);\n",
              "    }\n",
              "    60% {\n",
              "      border-color: transparent;\n",
              "      border-right-color: var(--fill-color);\n",
              "    }\n",
              "    80% {\n",
              "      border-color: transparent;\n",
              "      border-right-color: var(--fill-color);\n",
              "      border-bottom-color: var(--fill-color);\n",
              "    }\n",
              "    90% {\n",
              "      border-color: transparent;\n",
              "      border-bottom-color: var(--fill-color);\n",
              "    }\n",
              "  }\n",
              "</style>\n",
              "\n",
              "      <script>\n",
              "        async function quickchart(key) {\n",
              "          const quickchartButtonEl =\n",
              "            document.querySelector('#' + key + ' button');\n",
              "          quickchartButtonEl.disabled = true;  // To prevent multiple clicks.\n",
              "          quickchartButtonEl.classList.add('colab-df-spinner');\n",
              "          try {\n",
              "            const charts = await google.colab.kernel.invokeFunction(\n",
              "                'suggestCharts', [key], {});\n",
              "          } catch (error) {\n",
              "            console.error('Error during call to suggestCharts:', error);\n",
              "          }\n",
              "          quickchartButtonEl.classList.remove('colab-df-spinner');\n",
              "          quickchartButtonEl.classList.add('colab-df-quickchart-complete');\n",
              "        }\n",
              "        (() => {\n",
              "          let quickchartButtonEl =\n",
              "            document.querySelector('#df-fad1044f-1034-4274-8e73-6f6320ffde86 button');\n",
              "          quickchartButtonEl.style.display =\n",
              "            google.colab.kernel.accessAllowed ? 'block' : 'none';\n",
              "        })();\n",
              "      </script>\n",
              "    </div>\n",
              "\n",
              "    </div>\n",
              "  </div>\n"
            ],
            "application/vnd.google.colaboratory.intrinsic+json": {
              "type": "dataframe",
              "variable_name": "data",
              "summary": "{\n  \"name\": \"data\",\n  \"rows\": 492,\n  \"fields\": [\n    {\n      \"column\": \"in_sf\",\n      \"properties\": {\n        \"dtype\": \"number\",\n        \"std\": 0.49850338164592467,\n        \"min\": 0.0,\n        \"max\": 1.0,\n        \"num_unique_values\": 2,\n        \"samples\": [\n          1.0,\n          0.0\n        ],\n        \"semantic_type\": \"\",\n        \"description\": \"\"\n      }\n    },\n    {\n      \"column\": \"beds\",\n      \"properties\": {\n        \"dtype\": \"number\",\n        \"std\": 0.13051325774255618,\n        \"min\": 0.0,\n        \"max\": 1.0,\n        \"num_unique_values\": 11,\n        \"samples\": [\n          0.5,\n          0.2\n        ],\n        \"semantic_type\": \"\",\n        \"description\": \"\"\n      }\n    },\n    {\n      \"column\": \"bath\",\n      \"properties\": {\n        \"dtype\": \"number\",\n        \"std\": 0.11868337078900033,\n        \"min\": 0.0,\n        \"max\": 1.0,\n        \"num_unique_values\": 16,\n        \"samples\": [\n          0.0,\n          0.1111111111111111\n        ],\n        \"semantic_type\": \"\",\n        \"description\": \"\"\n      }\n    },\n    {\n      \"column\": \"price\",\n      \"properties\": {\n        \"dtype\": \"number\",\n        \"std\": 0.10339794732030547,\n        \"min\": 0.0,\n        \"max\": 1.0,\n        \"num_unique_values\": 270,\n        \"samples\": [\n          0.05153255570108934,\n          0.07734492969185298\n        ],\n        \"semantic_type\": \"\",\n        \"description\": \"\"\n      }\n    },\n    {\n      \"column\": \"year_built\",\n      \"properties\": {\n        \"dtype\": \"number\",\n        \"std\": 0.2983794266664994,\n        \"min\": 0.0,\n        \"max\": 1.0,\n        \"num_unique_values\": 110,\n        \"samples\": [\n          0.6323529411764692,\n          0.9411764705882337\n        ],\n        \"semantic_type\": \"\",\n        \"description\": \"\"\n      }\n    },\n    {\n      \"column\": \"sqft\",\n      \"properties\": {\n        \"dtype\": \"number\",\n        \"std\": 0.13542940619375363,\n        \"min\": 0.0,\n        \"max\": 1.0,\n        \"num_unique_values\": 330,\n        \"samples\": [\n          0.14192256341789053,\n          0.11415220293724967\n        ],\n        \"semantic_type\": \"\",\n        \"description\": \"\"\n      }\n    },\n    {\n      \"column\": \"price_per_sqft\",\n      \"properties\": {\n        \"dtype\": \"number\",\n        \"std\": 0.16942175534586407,\n        \"min\": 0.0,\n        \"max\": 1.0,\n        \"num_unique_values\": 360,\n        \"samples\": [\n          0.025167397829600563,\n          0.3417224659432002\n        ],\n        \"semantic_type\": \"\",\n        \"description\": \"\"\n      }\n    },\n    {\n      \"column\": \"elevation\",\n      \"properties\": {\n        \"dtype\": \"number\",\n        \"std\": 0.18770272350411205,\n        \"min\": 0.0,\n        \"max\": 1.0,\n        \"num_unique_values\": 121,\n        \"samples\": [\n          0.3487394957983193,\n          0.26050420168067223\n        ],\n        \"semantic_type\": \"\",\n        \"description\": \"\"\n      }\n    }\n  ]\n}"
            }
          },
          "metadata": {},
          "execution_count": 5
        }
      ],
      "source": [
        "from sklearn.preprocessing import MinMaxScaler\n",
        "scaler = MinMaxScaler()\n",
        "\n",
        "\n",
        "#data[data.columns] = scaler.fit_transform(data[data.columns])\n",
        "\n",
        "\n",
        "for c in data.columns:\n",
        "    data[c] = scaler.fit_transform(data[c].to_numpy().reshape(-1, 1))\n",
        "data.head()\n",
        "\n",
        "\n"
      ]
    },
    {
      "cell_type": "markdown",
      "metadata": {
        "id": "BD5JfHCj2eJS"
      },
      "source": [
        "Let's split the data into a training and a test dataset"
      ]
    },
    {
      "cell_type": "code",
      "execution_count": 28,
      "metadata": {
        "id": "koLt5wt_2eJT",
        "outputId": "8bac8477-6174-4e81-9e7b-ca57dc551492",
        "colab": {
          "base_uri": "https://localhost:8080/"
        }
      },
      "outputs": [
        {
          "output_type": "stream",
          "name": "stdout",
          "text": [
            "We have 329 training samples with 184.0 signal and 145.0 background events\n",
            "We have 163 testing samples with 84.0 signal and 79.0 background events\n"
          ]
        }
      ],
      "source": [
        "from sklearn.model_selection import train_test_split\n",
        "from sklearn.utils import shuffle\n",
        "from sklearn.metrics import roc_curve, auc, accuracy_score\n",
        "from sklearn.tree import export_graphviz\n",
        "from sklearn.inspection import permutation_importance\n",
        "try:\n",
        "    # See #1137: this allows compatibility for scikit-learn >= 0.24\n",
        "    from sklearn.utils import safe_indexing\n",
        "except ImportError:\n",
        "    from sklearn.utils import _safe_indexing\n",
        "\n",
        "\n",
        "X = data.drop([\"in_sf\"], axis=1)\n",
        "y = data[\"in_sf\"]\n",
        "\n",
        "import sklearn\n",
        "X_train, X_test, y_train, y_test = sklearn.model_selection.train_test_split(X, y, test_size=0.33, random_state=42)\n",
        "\n",
        "print(f\"We have {len(X_train)} training samples with {sum(y_train)} signal and {sum(1-y_train)} background events\")\n",
        "print(f\"We have {len(X_test)} testing samples with {sum(y_test)} signal and {sum(1-y_test)} background events\")\n"
      ]
    },
    {
      "cell_type": "markdown",
      "metadata": {
        "id": "dfw69cUj2eJT"
      },
      "source": [
        "Now that we have our dataset ready, it's time to..."
      ]
    },
    {
      "cell_type": "markdown",
      "metadata": {
        "id": "w21r1dHh2eJU"
      },
      "source": [
        "## Code a neural network from scratch\n",
        "\n",
        "#### Details on neural networks\n",
        "\n",
        "Biology teaches us that the brain is constituted of neurons and connections between them: the synapses.\n",
        "By comparing the brain of various animals, we now think that the more the number of neurons and most importantly of synapses is large, the more complex are the functions that the brain can execute.\n",
        "\n",
        "Let's learn the inner workings of a very simplified mathematical model of brain: an artificual neural network.\n",
        "\n",
        "The first element is the neuron. The simplest model (and one of the first) we have is the [*perceptron*](https://en.wikipedia.org/wiki/Perceptron). The neuron is modelled by a mathematical function that takes some arguments as inputs, combines them linearly, and returns an output value.\n",
        "We denote as *weights* the coefficients of the linear combination.\n",
        "\n",
        "However, we want to be able to approximate nonlinear functions, so we need to plug in a degree of nonlinearity inside the neuron, and we want the neuron to fire only when a certain threshold in the output is reached (a certain amount of stimulation).\n",
        "\n",
        "We modify the output of the neuron by an activation function $f_{act}$: the neuron is activated if the activation function returns a non-zero value. The output of the neuron is defined as:\n",
        "\n",
        "$$\n",
        "y_n = f_{act}(\\sum_i w_{i,n} x_{i,n})\n",
        "$$\n",
        "\n",
        "If the activation function is not linear, we are happy because we have obtained a neuron that gives a nonlinear output and gets activated only if the stimuli it receives are large enough.\n",
        "\n",
        "You will use in this exercise two activation functions:\n",
        "\n",
        "- [ReLU](https://en.wikipedia.org/wiki/Rectifier_(neural_networks)), a function $f(x)$ that returns 0 if $x<0$, and $x$ otherwise. It is used to introduce a nonlinearity while allowing the variable to have a wide range of values;\n",
        "- [sigmoid](https://en.wikipedia.org/wiki/Sigmoid_function), a function that rescales any number into a number between 0 and 1. It is often used in classification contexts as the activation function for the output layer, to be able to interpret outputs as probabilities.\n",
        "\n",
        "Here you have a graphical representation of the perceptron, by [https://towardsdatascience.com](https://towardsdatascience.com):\n",
        "\n",
        "![neuron](https://miro.medium.com/max/1435/1*n6sJ4yZQzwKL9wnF5wnVNg.png \"Figure from https://towardsdatascience.com\")\n",
        "\n",
        "Now we have to connect the neurons. The simplest way is to build layers of neurons, and to connect all neurons of consecutive layers. Starting with the inputs, there is a first layer of neurons. Each neuron combines linearly the inputs and passes the result through activation function to give an output value. The set of outputs of a layer will be the input of the following layer:\n",
        "\n",
        "![neuralnet](https://upload.wikimedia.org/wikipedia/commons/thumb/4/46/Colored_neural_network.svg/800px-Colored_neural_network.svg.png \"Figure from wikipedia\")\n",
        "\n",
        "A neural network is characterized by a set of weights assigned to the connections that define the structure of the network. You can see this as a mathematical function with many free parameters (the weights) that takes the inputs and gives an output. The problem of learning is then the problem of finding the values of the free parameters that minimize the difference between the output and the target distribution that we want to learn.\n",
        "\n",
        "#### The loss function\n",
        "\n",
        "For regression problems, the loss function is typically the Mean Square Error (MSE).\n",
        "\n",
        "For classification problems, the loss function is typically the *binary cross entropy*, defined for one data point $i$ as:\n",
        "\n",
        "$$\n",
        "Loss_i = -( y_{true}log(\\hat{y}) + (1-y_{true})log(1-\\hat{y}) )\n",
        "$$\n",
        "\n",
        "ATTENTION: if $\\hat{y}$ is either 0 or 1, the log is undefined. You can add a workaround by putting log(0) to minus infinity, e.g., if $\\hat{y}$ is defined as $yhat$, `(-10^8 if (yhat==0 or yhat==1) else np.log(yhat) )`\n",
        "\n",
        "\n",
        "#### The training process\n",
        "\n",
        "Schematically, the training process consists in:\n",
        "\n",
        "- for each epoch\n",
        "   * for each training set data point:\n",
        "      1. calculate the output of each neuron, starting from the inputs to the output\n",
        "      2. compare the output of the last neuron with the reference wine quality\n",
        "      3. propagate the error back towards the inputs, without updating the weights (the error needs to be propagated with respect to the current values of the weights)\n",
        "      4. update all the weights\n",
        "      5. save the value of the loss function for each event\n",
        "   * for each test set data point:\n",
        "      1. save the value of the loss function for each event\n",
        "   * aggregate the loss function by computing an average\n",
        "      1. For the training dataset, this is the average training loss\n",
        "      2. For the test dataset, this is the average validation loss (you see here I am using validation and test indifferently)\n",
        "\n",
        "The idea is the training will stop when the loss function doesn't improve anymore (it remains stationary at its minimum. If the training loss keeps diminishing and the test loss begins increasing, then we might be starting to learn statistical fluctuations of the training dataset.\n",
        "\n",
        "\n",
        "#### Clarification on the connections between networks (to fix ideas)\n",
        "\n",
        "If the network has the following structure: (input layer: two inputs `A` et `B`;  first internal (_hidden_) layer: two neurons `1a` et `1b`; second hidden layer: two neurons `2a` et `2b`; output `y`), the list of connections (the weights) is:\n",
        "\n",
        "- Four weights connecting the inputs to the layer 1:\n",
        "    - `wA1a` (connects input `A` to neuron `1a`)\n",
        "    - `wA1b` (connects input `A` to neuron `1b`)\n",
        "    - `wB1a` (connects input `B` to neuron `1a`)\n",
        "    - `wB1b` (connects input `B` to neuron `1b`)\n",
        "- Four weights connecting the neurons of layer 1 to those of layer 2:_\n",
        "    - `W1a2a` (connects neuron `1a` to neuron `2a`)\n",
        "    - `W1a2b` (connects neuron `1a` to neuron `2b`)\n",
        "    - `W1b2a` (connects neuron `1b` to neuron `2a`)\n",
        "    - `W1b2b` (connects neuron `1b` to neuron `2b`)\n",
        "- Two weights connecting the neurons of layer 2 to the output y:\n",
        "    - `W2ay` (connects neuron `2a` to output `y`)\n",
        "    - `W2by` (connects neuron `2b` to output `y`)\n",
        "\n",
        "####  Backpropagation\n",
        "\n",
        "To perform backpropagation we need, for each neuron, to propagate back the error of the neurons of the following layer (so you need to go backwards). We use the chain rule.\n",
        "\n",
        "- Error for a neuron of the output layer:\n",
        "\n",
        "$$\n",
        "\\epsilon = (y_{true} - \\hat{y}) * activation\\_derivative(\\hat{y})\n",
        "$$\n",
        "\n",
        "Here $\\hat{y}$ is the output of this output neuron, and $y_{true}$ is the target quality of the wine\n",
        "\n",
        "- Error for a neuron $m$ of an internal layer $N$:\n",
        "\n",
        "$$\n",
        "\\epsilon_{m, N} = \\sum_{k} (w_{k, N+1} * \\epsilon_{k, N+1}) * activation\\_derivative(\\hat{m})\n",
        "$$\n",
        "\n",
        "Here, $\\epsilon_{k,N+1}$ is the error of the neuron $k$ of the following layer (layer $N+1$), $w_{k, N+1}$ is the weight of the connection between the neuron $m$ and the neuron $k$ of the next layer, and $\\hat{m}$ is the output of neuron $m$\n",
        "\n",
        "\n",
        "#### Updating the weights\n",
        "\n",
        "After having backpropagated all the gradient, you have to update all the weights using this formula:\n",
        "\n",
        "$$\n",
        "w = w + learning\\_rate * error * input\n",
        "$$\n",
        "\n",
        "Ici $error$ is the error calculated via backpropagation, $input$ is the input value of the neuron that had been originally passed to the neuron, and $learning rate$ is a parameter governing how fast we climb down the gradient.\n",
        "\n",
        "\n",
        "#### At the end of each epoch\n",
        "\n",
        "To check for convergence of the network, a standard practice is to aggregate the errors $\\hat{y} - y_{true}$  of all the events at the end of each epoch, in order to reduce the sensitivity to statistical fluctuations in the training sample. The first pillar of statistical wisdom according to Stigler is precisely aggregation.\n",
        "\n",
        "For regression problems, in analogy with $\\chi^2$ fit, we can for example calculate the $MSE = \\frac{1}{N} \\sum_{events} (\\hat{y}-y_{true})^2$ and plot the MSE as a function of the number of epochs. If the network is improving its predictions, we should see something like this:\n",
        "\n",
        "![mse](https://cern.ch/vischia/mse_pythonCourse.png \"Figure by Pietro Vischia, 2019\")\n",
        "\n",
        "For classification problems, the figure of merit is typically the accuracy, defined as:\n",
        "\n",
        "$$\n",
        "Accuracy = \\frac{TruePositives + TrueNegatives}{TruePositives+TrueNegatives+FalsePositives+FalseNegatives}\\,.\n",
        "$$\n",
        "\n",
        "*HINT*: you can calculate these quantities easily from the confusion matrix.\n",
        "\n",
        "\n",
        "#### Diagnostic plots\n",
        "\n",
        "- 1) Average loss as a function of the epoch\n",
        "- 2a) Regression: histogram of $\\frac{\\hat{y} - y_{true}}{y_{true}}$\n",
        "- 2b) Regression: histogram of $\\frac{\\hat{y} - y_{true}}{y_{true}}$ as a function of $y_{true}$\n",
        "- 3a) Classification: confusion matrix\n",
        "- 3b) Classification: ROC curve\n",
        "\n",
        "### Weights initialization\n",
        "- To initialize the weights at the beginning you can use a Gaussian, or a truncated gaussian ( (scipy.stats.truncnorm), or a $random uniform[0,1]$\n",
        "\n",
        "\n",
        "### Which gradient descent scheme should you check?\n",
        "\n",
        "All three :D\n",
        "\n",
        "The code should take as an input the scheme: `stochastic`, `batch`, `minibatch`. For `minibatch`, an additional parameter should be taken as an input, i.e. the number of events per batch.\n",
        "\n",
        "- `stochastic`: the event weights are updated after backpropagating each data point. One epoch corresponds to having iterated through all training events (i.e. one epoch corresponds to $N_{train}$ weight updates)\n",
        "- `batch`: the event weights are updated only after all training events have been processed. One epoch corresponds to having iterated through all training events (i.e. one epoch corresponds to $1$ weight update)\n",
        "- `minibatch`: a relatively small number of events (a batch) is sampled each time, and weights are updated after every batch (one epoch is defined as $N_{train}/batchSize$ iterations)"
      ]
    },
    {
      "cell_type": "markdown",
      "metadata": {
        "id": "6eLKVqUY2eJU"
      },
      "source": [
        "---"
      ]
    },
    {
      "cell_type": "markdown",
      "metadata": {
        "id": "7t-pMiGm2eJV"
      },
      "source": [
        "Let's now start with the elements we need.\n",
        "\n",
        "First, we need to realize that although we could in principle model the problem in an object-oriented way, that is define a class `Neuron` and have a class `Network` that collects neurons maybe into instances of a class `Layer`, this doesn't exploit the synthetical concepts behind representing neural network operations in a backgpropagation-friendly way.\n",
        "\n",
        "In other words, the simplest way we can encode the problem is to have in our mind the neural structure as a set of neurons with connections, and write instead in the code the problem as a set of weights that must be combined in ways defined by the neurons.\n",
        "\n",
        "This highlights the fact that the neuron outputs are transient: the real parameters of the network, that we must store for learning and later use, are the weights.\n",
        "\n",
        "All of this to say that we will just store appropriately-sized matrices of weights, and the neurons wil \"exist\" as operations of matrix multiplication between the weights matrices.\n",
        "\n",
        "To make matrix multiplication we will use `np.dot`.\n",
        "\n",
        "The exact implementation is courtesy https://www.analyticsvidhya.com/blog/2020/07/neural-networks-from-scratch-in-python-and-r/"
      ]
    },
    {
      "cell_type": "code",
      "execution_count": 7,
      "metadata": {
        "id": "nirWhNL92eJV",
        "colab": {
          "base_uri": "https://localhost:8080/"
        },
        "outputId": "b5b0fef3-755c-4c7c-b1ff-0136bc2e8426"
      },
      "outputs": [
        {
          "output_type": "stream",
          "name": "stdout",
          "text": [
            "[[ 7 14 21 28]\n",
            " [ 7 14 21 28]]\n"
          ]
        }
      ],
      "source": [
        "# a: 2x3\n",
        "a=[\n",
        "    [2,2,3],\n",
        "    [2,2,3]\n",
        "]\n",
        "# b: 3x4\n",
        "b=[\n",
        "   [1,2,3,4],\n",
        "   [1,2,3,4],\n",
        "   [1,2,3,4]\n",
        "]\n",
        "\n",
        "# a dot b: 2x4\n",
        "\n",
        "print(np.dot(a,b))"
      ]
    },
    {
      "cell_type": "markdown",
      "metadata": {
        "id": "lKKOhY4V2eJV"
      },
      "source": [
        "Next we need to write our activation function and its derivative.\n",
        "\n",
        "Let's implement the sigmoid (we will use it for the output layer).\n",
        "You can also implement the ReLU if you wish.\n"
      ]
    },
    {
      "cell_type": "code",
      "execution_count": 18,
      "metadata": {
        "id": "v3GEa3N32eJV"
      },
      "outputs": [],
      "source": [
        "def sigmoid(input):\n",
        "    return  1/(1+np.exp(-input))\n",
        "\n",
        "# Define the sigmoid derivative function\n",
        "def sigmoid_derivative(input):\n",
        "    return sigmoid(input)*(1-sigmoid(input))\n",
        "\n",
        "# Definimos relu ya que estamos\n",
        "\n",
        "def relu(input):\n",
        "  return np.maximum(0,input)\n",
        "\n",
        "def relu_derivative(input):\n",
        "  return np.where(input>0,1,0)\n"
      ]
    },
    {
      "cell_type": "markdown",
      "metadata": {
        "id": "BfMH8lWC2eJV"
      },
      "source": [
        "Let's plot both"
      ]
    },
    {
      "cell_type": "code",
      "execution_count": 19,
      "metadata": {
        "id": "ZVyjlvvf2eJW",
        "colab": {
          "base_uri": "https://localhost:8080/",
          "height": 466
        },
        "outputId": "e3b0e72e-7535-4fab-f088-c6120bf30938"
      },
      "outputs": [
        {
          "output_type": "execute_result",
          "data": {
            "text/plain": [
              "<matplotlib.legend.Legend at 0x7ecd5118ac60>"
            ]
          },
          "metadata": {},
          "execution_count": 19
        },
        {
          "output_type": "display_data",
          "data": {
            "text/plain": [
              "<Figure size 640x480 with 1 Axes>"
            ],
            "image/png": "[encoded data removed]"
          },
          "metadata": {}
        }
      ],
      "source": [
        "x=np.linspace(-10,10,100)\n",
        "\n",
        "plt.plot(x, sigmoid(x), label='sigmoid(x)')\n",
        "plt.plot(x, sigmoid_derivative(x), label='sigmoid\\'(x)')\n",
        "plt.plot(x, relu(x), label='relu(x)')\n",
        "plt.plot(x, relu_derivative(x), label='relu\\'(x)')\n",
        "plt.xlabel('x')\n",
        "plt.ylabel('f(x)')\n",
        "plt.legend(loc='best')"
      ]
    },
    {
      "cell_type": "markdown",
      "metadata": {
        "id": "l0_dMiZ32eJW"
      },
      "source": [
        "The activation function become larger than 0.5 at $x=0$. We need to include the possibility of shifting the value for which the neuron activates. This is done by introducing a bias.\n",
        "\n",
        "The neuron output from\n",
        "\n",
        "$$\n",
        "y = f(\\sum(w_i x_i))\n",
        "$$\n",
        "\n",
        "(that activates for $\\sum(w_i x_i)>0$) will be\n",
        "\n",
        "$$\n",
        "y = f(\\sum(w_i x_i+ w_bb) )\n",
        "$$\n",
        "\n",
        "that activates at a learnable ($w_b$) value.\n"
      ]
    },
    {
      "cell_type": "markdown",
      "metadata": {
        "id": "JV_w2cBD2eJW"
      },
      "source": [
        "Now we need to define what's the structure of the network.\n",
        "\n",
        "Let's assume we have one input layer,  one hidden layer, and one output layer. We now define the number of neurons per each layer. You can generalize to an array of hidden layers."
      ]
    },
    {
      "cell_type": "code",
      "execution_count": 32,
      "metadata": {
        "id": "j6qB-35k2eJW",
        "colab": {
          "base_uri": "https://localhost:8080/"
        },
        "outputId": "187c4d29-8786-4b9f-dcf6-70fe92718e40"
      },
      "outputs": [
        {
          "output_type": "stream",
          "name": "stdout",
          "text": [
            "n_inputs: características:7\n",
            "n_hidden: neuronas ocultas:20\n",
            "n_output: salidas:1\n"
          ]
        }
      ],
      "source": [
        "n_inputs = X_train.shape[1]\n",
        "n_hidden = 20\n",
        "n_output = 1\n",
        "\n",
        "print(f\"n_inputs: características:{n_inputs}\")\n",
        "print(f\"n_hidden: neuronas ocultas:{n_hidden}\")\n",
        "print(f\"n_output: salidas:{n_output}\")\n"
      ]
    },
    {
      "cell_type": "markdown",
      "metadata": {
        "id": "jyzjU8lr2eJW"
      },
      "source": [
        "We now have to create the arrays for the weights and initialize the weights to a starting value, for the first forward pass. The weights will be later updated.\n",
        "\n",
        "Remember to set appropriate sizes to account for the dot products.\n",
        "\n",
        "You can later try to see what changes in the training when initializing e.g. with gaussian weights.\n",
        "\n",
        "Let's also disregard the bias :D"
      ]
    },
    {
      "cell_type": "code",
      "execution_count": null,
      "metadata": {
        "id": "Cg60PiRG2eJW"
      },
      "outputs": [],
      "source": []
    },
    {
      "cell_type": "markdown",
      "metadata": {
        "id": "3PfF_TUv2eJW"
      },
      "source": [
        "Now we need to implement the forward pass, for each layer transition.\n",
        "\n",
        "We can also print out what happens for an untrained forward pass, and the MSE"
      ]
    },
    {
      "cell_type": "code",
      "execution_count": null,
      "metadata": {
        "id": "UfZ7HcbZ2eJW"
      },
      "outputs": [],
      "source": []
    },
    {
      "cell_type": "markdown",
      "metadata": {
        "id": "YzNZpAXm2eJX"
      },
      "source": [
        "Now we need to implement the backpropagation algorithm. We start with the rate of change of the output error"
      ]
    },
    {
      "cell_type": "code",
      "execution_count": null,
      "metadata": {
        "id": "WREyjylA2eJX"
      },
      "outputs": [],
      "source": [
        "error =\n"
      ]
    },
    {
      "cell_type": "markdown",
      "metadata": {
        "id": "Z70lmYv52eJX"
      },
      "source": [
        "Now, let's proceed through the layers"
      ]
    },
    {
      "cell_type": "code",
      "execution_count": null,
      "metadata": {
        "id": "AAdRVft12eJX"
      },
      "outputs": [],
      "source": []
    },
    {
      "cell_type": "markdown",
      "metadata": {
        "id": "sTH6AP6T2eJX"
      },
      "source": [
        "Now we can update the weights"
      ]
    },
    {
      "cell_type": "code",
      "execution_count": null,
      "metadata": {
        "id": "ayLVY9-82eJX"
      },
      "outputs": [],
      "source": []
    },
    {
      "cell_type": "markdown",
      "metadata": {
        "id": "3NPEl4pM2eJX"
      },
      "source": [
        "Now we have described fully the process.\n",
        "\n",
        "Let's put it together in a loop!"
      ]
    },
    {
      "cell_type": "code",
      "execution_count": null,
      "metadata": {
        "id": "Mh33N_ME2eJX"
      },
      "outputs": [],
      "source": []
    },
    {
      "cell_type": "code",
      "execution_count": null,
      "metadata": {
        "id": "CXfc9IVS2eJX"
      },
      "outputs": [],
      "source": [
        "plt.plot(losses)"
      ]
    },
    {
      "cell_type": "code",
      "execution_count": null,
      "metadata": {
        "id": "P7CptUTh2eJX"
      },
      "outputs": [],
      "source": []
    }
  ],
  "metadata": {
    "kernelspec": {
      "display_name": "Python 3 (ipykernel)",
      "language": "python",
      "name": "python3"
    },
    "language_info": {
      "codemirror_mode": {
        "name": "ipython",
        "version": 3
      },
      "file_extension": ".py",
      "mimetype": "text/x-python",
      "name": "python",
      "nbconvert_exporter": "python",
      "pygments_lexer": "ipython3",
      "version": "3.10.16"
    },
    "colab": {
      "provenance": [],
      "include_colab_link": true
    }
  },
  "nbformat": 4,
  "nbformat_minor": 0
}